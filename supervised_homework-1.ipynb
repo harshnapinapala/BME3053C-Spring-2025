{
 "cells": [
  {
   "cell_type": "markdown",
   "metadata": {},
   "source": [
    "# MNIST Digit Classification\n",
    "##### In this assignment, you will work with the [MNIST handwritten digits dataset](http://yann.lecun.com/exdb/mnist/) to implement and compare two supervised learning algorithms: Logistic Regression and Neural Networks. You will gain hands-on experience with data preprocessing, model training, evaluation, and visualization techniques commonly used in machine learning.\n"
   ]
  },
  {
   "cell_type": "code",
   "execution_count": 11,
   "metadata": {},
   "outputs": [],
   "source": [
    "import numpy as np\n",
    "import pandas as pd\n",
    "import matplotlib.pyplot as plt\n",
    "\n",
    "try:\n",
    "    from sklearn.datasets import fetch_openml\n",
    "    from sklearn.model_selection import train_test_split\n",
    "    from sklearn.linear_model import LogisticRegression\n",
    "    from sklearn.preprocessing import StandardScaler\n",
    "    from sklearn.metrics import accuracy_score, classification_report, confusion_matrix\n",
    "    from sklearn.neural_network import MLPClassifier\n",
    "    import seaborn as sns\n",
    "except ImportError as e:\n",
    "    import subprocess\n",
    "    import sys\n",
    "    \n",
    "    print(f\"Missing package: {str(e).split()[-1]}\")\n",
    "    print(\"Installing required packages...\")\n",
    "    %pip install scikit-learn\n",
    "    %pip install seaborn\n"
   ]
  },
  {
   "cell_type": "markdown",
   "metadata": {},
   "source": [
    "### Part 1: Data Loading and Exploration (4 points)\n",
    "1. Load the MNIST dataset using fetch_openml\n",
    "2. Print the following dataset characteristics:\n",
    "   - Dataset dimensions and size\n",
    "   - Number of classes\n",
    "3. Visualize sample digits from the dataset\n"
   ]
  },
  {
   "cell_type": "code",
   "execution_count": 4,
   "metadata": {},
   "outputs": [],
   "source": [
    "from sklearn.datasets import fetch_openml\n",
    "import matplotlib.pyplot as plt\n",
    "import numpy as np\n",
    "\n",
    "# Load the MNIST dataset\n",
    "mnist = fetch_openml('mnist_784', version=1, as_frame=False)\n",
    "\n",
    "# Extract data and target\n",
    "X, y = mnist.data, mnist.target\n",
    "\n",
    "# Convert target to integers\n",
    "y = y.astype(int)\n"
   ]
  },
  {
   "cell_type": "code",
   "execution_count": 5,
   "metadata": {},
   "outputs": [
    {
     "name": "stdout",
     "output_type": "stream",
     "text": [
      "Dataset dimensions: (70000, 784)\n",
      "Number of samples: 70000\n",
      "Number of features: 784\n",
      "Number of classes: 10\n"
     ]
    }
   ],
   "source": [
    "# Print dataset dimensions and size\n",
    "print(f\"Dataset dimensions: {X.shape}\")\n",
    "print(f\"Number of samples: {X.shape[0]}\")\n",
    "print(f\"Number of features: {X.shape[1]}\")\n",
    "print(f\"Number of classes: {len(set(y))}\")\n"
   ]
  },
  {
   "cell_type": "code",
   "execution_count": 6,
   "metadata": {},
   "outputs": [
    {
     "data": {
      "image/png": "[encoded data removed]",
      "text/plain": [
       "<Figure size 1000x300 with 5 Axes>"
      ]
     },
     "metadata": {},
     "output_type": "display_data"
    }
   ],
   "source": [
    "# Visualize sample digits from the dataset\n",
    "fig, axes = plt.subplots(1, 5, figsize=(10, 3))\n",
    "for i, ax in enumerate(axes):\n",
    "    ax.imshow(X[i].reshape(28, 28), cmap='gray')\n",
    "    ax.set_title(f\"Label: {y[i]}\")\n",
    "    ax.axis('off')\n",
    "plt.tight_layout()\n",
    "plt.show()\n"
   ]
  },
  {
   "cell_type": "markdown",
   "metadata": {},
   "source": [
    "### Part 2: Data Preprocessing (4 points)\n",
    "1. Scale the pixel values to range [0,1] by dividing by 255\n",
    "2. Split the data into training (80%) and testing (20%) sets\n",
    "3. Create a StandardScaler object and fit it on the training data\n",
    "4. Transform both training and test data using the fitted scaler\n",
    "5. Print the shapes of the resulting training and test sets\n"
   ]
  },
  {
   "cell_type": "code",
   "execution_count": 7,
   "metadata": {},
   "outputs": [
    {
     "name": "stdout",
     "output_type": "stream",
     "text": [
      "Training data shape: (56000, 784)\n",
      "Test data shape: (14000, 784)\n",
      "Training labels shape: (56000,)\n",
      "Test labels shape: (14000,)\n"
     ]
    }
   ],
   "source": [
    "from sklearn.model_selection import train_test_split\n",
    "from sklearn.preprocessing import StandardScaler\n",
    "\n",
    "# Scale the pixel values to range [0,1]\n",
    "X = X / 255.0\n",
    "\n",
    "# Split the data into training (80%) and testing (20%) sets\n",
    "X_train, X_test, y_train, y_test = train_test_split(X, y, test_size=0.2, random_state=42)\n",
    "\n",
    "# Create a StandardScaler object and fit it on the training data\n",
    "scaler = StandardScaler()\n",
    "X_train = scaler.fit_transform(X_train)\n",
    "\n",
    "# Transform the test data using the fitted scaler\n",
    "X_test = scaler.transform(X_test)\n",
    "\n",
    "# Print the shapes of the resulting training and test sets\n",
    "print(f\"Training data shape: {X_train.shape}\")\n",
    "print(f\"Test data shape: {X_test.shape}\")\n",
    "print(f\"Training labels shape: {y_train.shape}\")\n",
    "print(f\"Test labels shape: {y_test.shape}\")"
   ]
  },
  {
   "cell_type": "markdown",
   "metadata": {},
   "source": [
    "### Part 3: Model Training and Evaluation (8 points)\n",
    "1. Train a Logistic Regression model using the training data. Use the default parameters.\n",
    "2. Train a Neural Network model using the training data. The neural network should have 2 hidden layers with 100 and 50 neurons respectively. Use the Adam optimizer and a learning rate of 0.001."
   ]
  },
  {
   "cell_type": "code",
   "execution_count": 8,
   "metadata": {},
   "outputs": [
    {
     "name": "stdout",
     "output_type": "stream",
     "text": [
      "Logistic Regression Test Accuracy: 0.9154\n"
     ]
    }
   ],
   "source": [
    "from sklearn.linear_model import LogisticRegression\n",
    "\n",
    "# Train a Logistic Regression model using the training data\n",
    "logistic_model = LogisticRegression(max_iter=1000, random_state=42)\n",
    "logistic_model.fit(X_train, y_train)\n",
    "\n",
    "# Evaluate the Logistic Regression model\n",
    "logistic_accuracy = logistic_model.score(X_test, y_test)\n",
    "print(f\"Logistic Regression Test Accuracy: {logistic_accuracy:.4f}\")\n"
   ]
  },
  {
   "cell_type": "code",
   "execution_count": 9,
   "metadata": {},
   "outputs": [
    {
     "name": "stdout",
     "output_type": "stream",
     "text": [
      "Neural Network Test Accuracy: 0.9712\n"
     ]
    }
   ],
   "source": [
    "from sklearn.neural_network import MLPClassifier\n",
    "\n",
    "# Train a Neural Network model using the training data\n",
    "nn_model = MLPClassifier(hidden_layer_sizes=(100, 50), solver='adam', learning_rate_init=0.001, max_iter=200, random_state=42)\n",
    "nn_model.fit(X_train, y_train)\n",
    "\n",
    "# Evaluate the Neural Network model\n",
    "nn_accuracy = nn_model.score(X_test, y_test)\n",
    "print(f\"Neural Network Test Accuracy: {nn_accuracy:.4f}\")\n"
   ]
  },
  {
   "cell_type": "markdown",
   "metadata": {},
   "source": [
    "### Part 4: Model Comparison and Visualization (4 points)\n",
    "1. Use a bar plot to compare the accuracy of both models on the test data\n",
    "2. Print the classification report and confusion matrix for both models\n",
    "3. Visualize the misclassified examples for both models\n"
   ]
  },
  {
   "cell_type": "code",
   "execution_count": 11,
   "metadata": {},
   "outputs": [
    {
     "data": {
      "image/png": "[encoded data removed]",
      "text/plain": [
       "<Figure size 640x480 with 1 Axes>"
      ]
     },
     "metadata": {},
     "output_type": "display_data"
    }
   ],
   "source": [
    "import matplotlib.pyplot as plt\n",
    "\n",
    "# Compare the accuracy of both models\n",
    "accuracies = [logistic_accuracy, nn_accuracy]\n",
    "model_names = ['Logistic Regression', 'Neural Network']\n",
    "\n",
    "# Create a bar plot\n",
    "plt.bar(model_names, accuracies, color=['blue', 'green'])\n",
    "plt.title('Model Accuracy Comparison')\n",
    "plt.ylabel('Accuracy')\n",
    "plt.ylim(0, 1)\n",
    "plt.show()\n"
   ]
  },
  {
   "cell_type": "code",
   "execution_count": 10,
   "metadata": {},
   "outputs": [
    {
     "name": "stdout",
     "output_type": "stream",
     "text": [
      "Logistic Regression Classification Report:\n",
      "              precision    recall  f1-score   support\n",
      "\n",
      "           0       0.96      0.96      0.96      1343\n",
      "           1       0.94      0.97      0.96      1600\n",
      "           2       0.90      0.89      0.90      1380\n",
      "           3       0.90      0.89      0.89      1433\n",
      "           4       0.92      0.92      0.92      1295\n",
      "           5       0.88      0.88      0.88      1273\n",
      "           6       0.93      0.94      0.94      1396\n",
      "           7       0.92      0.94      0.93      1503\n",
      "           8       0.90      0.86      0.88      1357\n",
      "           9       0.89      0.90      0.90      1420\n",
      "\n",
      "    accuracy                           0.92     14000\n",
      "   macro avg       0.91      0.91      0.91     14000\n",
      "weighted avg       0.92      0.92      0.92     14000\n",
      "\n",
      "Logistic Regression Confusion Matrix:\n",
      "[[1283    1   10    0    1   14   22    4    6    2]\n",
      " [   0 1555    6    9    3    5    1    4   14    3]\n",
      " [   5   19 1234   18   13   14   21   16   28   12]\n",
      " [   7    9   36 1272    1   41    7   21   20   19]\n",
      " [   6    2   11    4 1187    5   13    9    9   49]\n",
      " [  11   11    8   43   12 1115   21    2   35   15]\n",
      " [   6    4   19    1   16   22 1319    3    6    0]\n",
      " [   4    4   24    5   13    6    0 1412    2   33]\n",
      " [  10   33   16   44    5   45   14    9 1161   20]\n",
      " [   7    9    7   15   38    5    0   49   12 1278]]\n",
      "\n",
      "Neural Network Classification Report:\n",
      "              precision    recall  f1-score   support\n",
      "\n",
      "           0       0.98      0.98      0.98      1343\n",
      "           1       0.99      0.99      0.99      1600\n",
      "           2       0.96      0.97      0.96      1380\n",
      "           3       0.97      0.97      0.97      1433\n",
      "           4       0.97      0.97      0.97      1295\n",
      "           5       0.97      0.97      0.97      1273\n",
      "           6       0.98      0.98      0.98      1396\n",
      "           7       0.97      0.97      0.97      1503\n",
      "           8       0.96      0.95      0.96      1357\n",
      "           9       0.95      0.97      0.96      1420\n",
      "\n",
      "    accuracy                           0.97     14000\n",
      "   macro avg       0.97      0.97      0.97     14000\n",
      "weighted avg       0.97      0.97      0.97     14000\n",
      "\n",
      "Neural Network Confusion Matrix:\n",
      "[[1322    0    2    0    1    1    6    4    7    0]\n",
      " [   0 1581    4    4    2    0    2    6    1    0]\n",
      " [   3    8 1334    3    6    1    4    7    9    5]\n",
      " [   1    1   14 1383    0   13    0    9    5    7]\n",
      " [   0    1    5    0 1252    0    5    2    3   27]\n",
      " [   2    2    3   12    2 1233    7    1   11    0]\n",
      " [   8    1    2    0    8    4 1369    1    2    1]\n",
      " [   1    3   10    2    2    3    0 1456    1   25]\n",
      " [   2    7   11   14    3    8    4    5 1294    9]\n",
      " [   7    0    1    3   12    2    0   13    9 1373]]\n"
     ]
    }
   ],
   "source": [
    "from sklearn.metrics import classification_report, confusion_matrix\n",
    "\n",
    "# Logistic Regression metrics\n",
    "print(\"Logistic Regression Classification Report:\")\n",
    "print(classification_report(y_test, logistic_model.predict(X_test)))\n",
    "\n",
    "print(\"Logistic Regression Confusion Matrix:\")\n",
    "print(confusion_matrix(y_test, logistic_model.predict(X_test)))\n",
    "\n",
    "# Neural Network metrics\n",
    "print(\"\\nNeural Network Classification Report:\")\n",
    "print(classification_report(y_test, nn_model.predict(X_test)))\n",
    "\n",
    "print(\"Neural Network Confusion Matrix:\")\n",
    "print(confusion_matrix(y_test, nn_model.predict(X_test)))"
   ]
  },
  {
   "cell_type": "code",
   "execution_count": 12,
   "metadata": {},
   "outputs": [
    {
     "name": "stdout",
     "output_type": "stream",
     "text": [
      "Number of misclassified examples (Logistic Regression): 1184\n"
     ]
    },
    {
     "data": {
      "image/png": "[encoded data removed]",
      "text/plain": [
       "<Figure size 1000x300 with 5 Axes>"
      ]
     },
     "metadata": {},
     "output_type": "display_data"
    },
    {
     "name": "stdout",
     "output_type": "stream",
     "text": [
      "Number of misclassified examples (Neural Network): 403\n"
     ]
    },
    {
     "data": {
      "image/png": "[encoded data removed]",
      "text/plain": [
       "<Figure size 1000x300 with 5 Axes>"
      ]
     },
     "metadata": {},
     "output_type": "display_data"
    }
   ],
   "source": [
    "import numpy as np\n",
    "\n",
    "# Logistic Regression misclassified examples\n",
    "logistic_misclassified = np.where(logistic_model.predict(X_test) != y_test)[0]\n",
    "print(f\"Number of misclassified examples (Logistic Regression): {len(logistic_misclassified)}\")\n",
    "\n",
    "# Visualize first 5 misclassified examples for Logistic Regression\n",
    "fig, axes = plt.subplots(1, 5, figsize=(10, 3))\n",
    "for i, ax in enumerate(axes):\n",
    "    idx = logistic_misclassified[i]\n",
    "    ax.imshow(X_test[idx].reshape(28, 28), cmap='gray')\n",
    "    ax.set_title(f\"True: {y_test[idx]}, Pred: {logistic_model.predict(X_test[idx].reshape(1, -1))[0]}\")\n",
    "    ax.axis('off')\n",
    "plt.tight_layout()\n",
    "plt.show()\n",
    "\n",
    "# Neural Network misclassified examples\n",
    "nn_misclassified = np.where(nn_model.predict(X_test) != y_test)[0]\n",
    "print(f\"Number of misclassified examples (Neural Network): {len(nn_misclassified)}\")\n",
    "\n",
    "# Visualize first 5 misclassified examples for Neural Network\n",
    "fig, axes = plt.subplots(1, 5, figsize=(10, 3))\n",
    "for i, ax in enumerate(axes):\n",
    "    idx = nn_misclassified[i]\n",
    "    ax.imshow(X_test[idx].reshape(28, 28), cmap='gray')\n",
    "    ax.set_title(f\"True: {y_test[idx]}, Pred: {nn_model.predict(X_test[idx].reshape(1, -1))[0]}\")\n",
    "    ax.axis('off')\n",
    "plt.tight_layout()\n",
    "plt.show()\n"
   ]
  }
 ],
 "metadata": {
  "kernelspec": {
   "display_name": "Python 3",
   "language": "python",
   "name": "python3"
  },
  "language_info": {
   "codemirror_mode": {
    "name": "ipython",
    "version": 3
   },
   "file_extension": ".py",
   "mimetype": "text/x-python",
   "name": "python",
   "nbconvert_exporter": "python",
   "pygments_lexer": "ipython3",
   "version": "3.12.1"
  }
 },
 "nbformat": 4,
 "nbformat_minor": 2
}
